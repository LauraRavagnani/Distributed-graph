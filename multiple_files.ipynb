{
 "cells": [
  {
   "cell_type": "code",
   "execution_count": 21,
   "metadata": {},
   "outputs": [],
   "source": [
    "import readfof\n",
    "from pyspark.sql import SparkSession\n",
    "import numpy as np\n",
    "import scipy.spatial as SS\n",
    "from scipy.spatial import KDTree"
   ]
  },
  {
   "cell_type": "code",
   "execution_count": 22,
   "metadata": {},
   "outputs": [],
   "source": [
    "spark = SparkSession.builder \\\n",
    "        .master(\"spark://master:7077\")\\\n",
    "        .appName(\"CosmoSparkApplication\")\\\n",
    "        .getOrCreate()"
   ]
  },
  {
   "cell_type": "code",
   "execution_count": 23,
   "metadata": {},
   "outputs": [],
   "source": [
    "sc = spark.sparkContext"
   ]
  },
  {
   "cell_type": "code",
   "execution_count": 24,
   "metadata": {},
   "outputs": [],
   "source": [
    "def read_cosmo_data(file_path):\n",
    "\n",
    "    # Read Fof\n",
    "    FoF = readfof.FoF_catalog(\n",
    "        file_path,           # simulation directory\n",
    "        2,                   # snapnum, indicating the redshift (z=1)\n",
    "        long_ids = False,\n",
    "        swap = False,\n",
    "        SFR = False,\n",
    "        read_IDs = False\n",
    "        )\n",
    "\n",
    "    pos = FoF.GroupPos/1e06             # Halo positions in Gpc/h \n",
    "    mass_raw = FoF.GroupMass * 1e10     # Halo masses in Msun/h\n",
    "\n",
    "    dim = pos.shape[0]\n",
    "    id = np.arange(dim, dtype=int).reshape(dim, 1)\n",
    "    pos_mass_matrix = np.hstack([id, pos, mass_raw.reshape(dim, 1)])\n",
    "\n",
    "    return pos_mass_matrix\n",
    "\n",
    "def find_cut(pos_mass_array, percent):\n",
    "\n",
    "    return np.quantile(pos_mass_array[:, 4], percent)\n",
    "\n",
    "def mass_filter(pos_mass_cut_rdd):\n",
    "\n",
    "    mass = pos_mass_cut_rdd[0][:, 4]\n",
    "    cut = pos_mass_cut_rdd[1]\n",
    "    \n",
    "    #if mass >= cut:\n",
    "        #return pos_mass_cut_rdd[0]\n",
    "    return pos_mass_cut_rdd[0][mass >= cut, :]\n",
    "\n",
    "def assign_box(point, boxes):\n",
    "    id, x, y, z, m = point\n",
    "    box_assign = []\n",
    "    \n",
    "    for box_name, ((x_min, x_max), (y_min, y_max), (z_min, z_max)) in boxes.items():\n",
    "     if (x_min <= x <= x_max) and (y_min <= y <= y_max) and (z_min <= z <= z_max):\n",
    "           box_assign.append((box_name, point))\n",
    "    \n",
    "    return box_assign\n",
    "\n",
    "# KD-tree to find edges in boxes\n",
    "def get_edges(pos_mass_points):\n",
    "    pos_mass_matrix = np.array(pos_mass_points)\n",
    "    pos = pos_mass_matrix[:,1:4]\n",
    "    id = pos_mass_matrix[:,0]\n",
    "\n",
    "    kd_tree = SS.KDTree(pos, leafsize=16, boxsize=1.00001)\n",
    "    edge_idx = kd_tree.query_pairs(r=0.2, output_type=\"ndarray\")\n",
    "    edge_idx = np.array([sorted((id[i], id[j])) for i, j in edge_idx])\n",
    "    \n",
    "    return edge_idx\n",
    "\n",
    "\n",
    "# find unique pairs of edges between 2 boxes (pere uniche)\n",
    "def unique_pears(mat1, mat2):\n",
    "    mat = np.vstack((mat1, mat2))\n",
    "    \n",
    "    return np.unique(mat, axis=0)\n"
   ]
  },
  {
   "cell_type": "code",
   "execution_count": 25,
   "metadata": {},
   "outputs": [],
   "source": [
    "N_sims = 1000\n",
    "\n",
    "# path list (key, value)\n",
    "path_list = [(i, \"/mnt/cosmo_GNN/Data/\"+str(i)) for i in range(N_sims)]\n",
    "\n",
    "cosmo_rdd = sc.parallelize(path_list)\\\n",
    "            .mapValues(read_cosmo_data)\n"
   ]
  },
  {
   "cell_type": "code",
   "execution_count": 26,
   "metadata": {},
   "outputs": [],
   "source": [
    "cut_rdd = cosmo_rdd.mapValues(lambda x: find_cut(x,0.997))"
   ]
  },
  {
   "cell_type": "code",
   "execution_count": 27,
   "metadata": {},
   "outputs": [],
   "source": [
    "joined_rdd = cosmo_rdd.join(cut_rdd)"
   ]
  },
  {
   "cell_type": "code",
   "execution_count": 28,
   "metadata": {},
   "outputs": [],
   "source": [
    "pos_mass_filtered = joined_rdd.mapValues(mass_filter)\\\n",
    "                                .filter(lambda x: x is not None)"
   ]
  },
  {
   "cell_type": "code",
   "execution_count": 29,
   "metadata": {},
   "outputs": [],
   "source": [
    "cosmo_rdd = pos_mass_filtered.flatMapValues(lambda x: x)"
   ]
  },
  {
   "cell_type": "code",
   "execution_count": 30,
   "metadata": {},
   "outputs": [],
   "source": [
    "min_x, min_y, min_z = 0, 0, 0 #min_coords\n",
    "max_x, max_y, max_z = 1, 1, 1 #max_coords\n",
    "\n",
    "r = 0.1  \n",
    "\n",
    "# Compute the midpoint for every dimension\n",
    "x_mid = np.mean([min_x, max_x])\n",
    "y_mid = np.mean([min_y, max_y])\n",
    "z_mid = np.mean([min_z, max_z])\n",
    "\n",
    "boxes = {\n",
    "    \"box1\": [(min_x    , x_mid + r ), (min_y    , y_mid + r), (min_z    , z_mid + r )],\n",
    "    \"box2\": [(x_mid - r, max_x     ), (min_y    , y_mid + r), (min_z    , z_mid + r )],\n",
    "    \"box3\": [(min_x    , x_mid + r ), (y_mid - r, max_y    ), (min_z    , z_mid + r )],\n",
    "    \"box4\": [(x_mid - r, max_x     ), (y_mid - r, max_y    ), (min_z    , z_mid + r )],\n",
    "    \"box5\": [(min_x    , x_mid + r ), (min_y    , y_mid + r), (z_mid - r, max_z    )],\n",
    "    \"box6\": [(x_mid - r, max_x     ), (min_y    , y_mid + r), (z_mid - r, max_z    )],\n",
    "    \"box7\": [(min_x    , x_mid + r ), (y_mid - r, max_y    ), (z_mid - r, max_z    )],\n",
    "    \"box8\": [(x_mid - r, max_x     ), (y_mid - r, max_y    ), (z_mid - r, max_z    )],\n",
    "}\n"
   ]
  },
  {
   "cell_type": "code",
   "execution_count": 31,
   "metadata": {},
   "outputs": [],
   "source": [
    "point_box_rdd = cosmo_rdd.flatMapValues(lambda p: assign_box(p, boxes))"
   ]
  },
  {
   "cell_type": "code",
   "execution_count": 32,
   "metadata": {},
   "outputs": [],
   "source": [
    "boxes_rdd_sim = point_box_rdd.groupByKey()\\\n",
    "                            .mapValues(lambda x: list(x))\n",
    "                        #.map(lambda x: (str(x[0]) + list(x[1])[0][0], list(x[1])[0][1]))\\\n",
    "                        #.groupByKey()\\\n",
    "                        "
   ]
  },
  {
   "cell_type": "code",
   "execution_count": 33,
   "metadata": {},
   "outputs": [],
   "source": [
    "boxes_rdd = point_box_rdd.map(lambda x: (str(x[0]) + '_' + list(x[1])[0], list(x[1])[1]))\\\n",
    "                        .groupByKey()\\\n",
    "                        .mapValues(list)"
   ]
  },
  {
   "cell_type": "code",
   "execution_count": 34,
   "metadata": {},
   "outputs": [],
   "source": [
    "edges_rdd = boxes_rdd.mapValues(get_edges)"
   ]
  },
  {
   "cell_type": "code",
   "execution_count": 35,
   "metadata": {},
   "outputs": [],
   "source": [
    "rdd_key_sim = edges_rdd.map(lambda x: (int(x[0][0]), x[1]))\\\n",
    "                     #.reduce(lambda a, b: unique_pears(a[1], b[1]))"
   ]
  },
  {
   "cell_type": "code",
   "execution_count": 36,
   "metadata": {},
   "outputs": [],
   "source": [
    "final = rdd_key_sim.reduceByKey(lambda a, b: unique_pears(a, b))"
   ]
  },
  {
   "cell_type": "code",
   "execution_count": 37,
   "metadata": {},
   "outputs": [
    {
     "name": "stderr",
     "output_type": "stream",
     "text": [
      "                                                                                \r"
     ]
    },
    {
     "data": {
      "text/plain": [
       "[(0,\n",
       "  array([[  0.,   6.],\n",
       "         [  0.,  83.],\n",
       "         [  0., 116.],\n",
       "         ...,\n",
       "         [169., 183.],\n",
       "         [171., 172.],\n",
       "         [184., 185.]])),\n",
       " (1,\n",
       "  array([[0.000e+00, 1.000e+00],\n",
       "         [0.000e+00, 2.000e+00],\n",
       "         [0.000e+00, 3.000e+00],\n",
       "         ...,\n",
       "         [1.159e+03, 1.161e+03],\n",
       "         [1.163e+03, 1.170e+03],\n",
       "         [1.168e+03, 1.169e+03]])),\n",
       " (2,\n",
       "  array([[0.000e+00, 1.000e+00],\n",
       "         [0.000e+00, 2.000e+00],\n",
       "         [0.000e+00, 3.000e+00],\n",
       "         ...,\n",
       "         [1.028e+03, 1.037e+03],\n",
       "         [1.034e+03, 1.048e+03],\n",
       "         [1.035e+03, 1.037e+03]])),\n",
       " (3,\n",
       "  array([[0.000e+00, 1.000e+00],\n",
       "         [0.000e+00, 2.000e+00],\n",
       "         [0.000e+00, 3.000e+00],\n",
       "         ...,\n",
       "         [1.143e+03, 1.147e+03],\n",
       "         [1.147e+03, 1.159e+03],\n",
       "         [1.149e+03, 1.156e+03]])),\n",
       " (4,\n",
       "  array([[0.000e+00, 1.000e+00],\n",
       "         [0.000e+00, 2.000e+00],\n",
       "         [0.000e+00, 3.000e+00],\n",
       "         ...,\n",
       "         [1.093e+03, 1.104e+03],\n",
       "         [1.094e+03, 1.096e+03],\n",
       "         [1.100e+03, 1.103e+03]])),\n",
       " (5,\n",
       "  array([[0.000e+00, 1.000e+00],\n",
       "         [0.000e+00, 2.000e+00],\n",
       "         [0.000e+00, 3.000e+00],\n",
       "         ...,\n",
       "         [1.177e+03, 1.178e+03],\n",
       "         [1.182e+03, 1.184e+03],\n",
       "         [1.184e+03, 1.186e+03]])),\n",
       " (6,\n",
       "  array([[0.000e+00, 1.000e+00],\n",
       "         [0.000e+00, 2.000e+00],\n",
       "         [0.000e+00, 3.000e+00],\n",
       "         ...,\n",
       "         [1.213e+03, 1.226e+03],\n",
       "         [1.214e+03, 1.226e+03],\n",
       "         [1.217e+03, 1.233e+03]])),\n",
       " (7,\n",
       "  array([[   0.,    2.],\n",
       "         [   0.,    3.],\n",
       "         [   0.,    4.],\n",
       "         ...,\n",
       "         [1235., 1248.],\n",
       "         [1237., 1252.],\n",
       "         [1239., 1257.]])),\n",
       " (8,\n",
       "  array([[0.000e+00, 1.000e+00],\n",
       "         [0.000e+00, 2.000e+00],\n",
       "         [0.000e+00, 3.000e+00],\n",
       "         ...,\n",
       "         [1.062e+03, 1.069e+03],\n",
       "         [1.063e+03, 1.068e+03],\n",
       "         [1.064e+03, 1.065e+03]])),\n",
       " (9,\n",
       "  array([[0.000e+00, 1.000e+00],\n",
       "         [0.000e+00, 2.000e+00],\n",
       "         [0.000e+00, 3.000e+00],\n",
       "         ...,\n",
       "         [1.093e+03, 1.094e+03],\n",
       "         [1.093e+03, 1.096e+03],\n",
       "         [1.093e+03, 1.098e+03]]))]"
      ]
     },
     "execution_count": 37,
     "metadata": {},
     "output_type": "execute_result"
    }
   ],
   "source": [
    "final.collect()"
   ]
  },
  {
   "cell_type": "code",
   "execution_count": 143,
   "metadata": {},
   "outputs": [],
   "source": [
    "#flattened_rdd = boxes_rdd_sim.flatMap(lambda x: [(x[0], box, arr) for box, arr in x[1]])\n",
    "#\n",
    "## Step 2: Group by 'box', keeping 'n' as the first element of the tuple\n",
    "#grouped_by_box_rdd = flattened_rdd.map(lambda x: (x[1], (x[0], x[2])))\\\n",
    "#                                  .groupByKey()\\\n",
    "#                                  .mapValues(lambda x: list(x))\n",
    "#\n",
    "## Step 3: Regroup by 'n', so that the output is (n, [(box, [array, array, ...])])\n",
    "#final_rdd = grouped_by_box_rdd.flatMap(lambda x: [(n, (x[0], arr)) for n, arr in x[1]])\\\n",
    "#                              .groupByKey()\\\n",
    "#                              .mapValues(lambda x: list(x))\n",
    "#\n",
    "## Collecting the results to see the output\n",
    "#flattened_rdd.take(1)"
   ]
  },
  {
   "cell_type": "code",
   "execution_count": 20,
   "metadata": {},
   "outputs": [],
   "source": [
    "sc.stop()\n",
    "spark.stop()"
   ]
  },
  {
   "cell_type": "code",
   "execution_count": null,
   "metadata": {},
   "outputs": [],
   "source": []
  },
  {
   "cell_type": "code",
   "execution_count": null,
   "metadata": {},
   "outputs": [],
   "source": []
  }
 ],
 "metadata": {
  "kernelspec": {
   "display_name": "pyspark_env",
   "language": "python",
   "name": "python3"
  },
  "language_info": {
   "codemirror_mode": {
    "name": "ipython",
    "version": 3
   },
   "file_extension": ".py",
   "mimetype": "text/x-python",
   "name": "python",
   "nbconvert_exporter": "python",
   "pygments_lexer": "ipython3",
   "version": "3.12.5"
  }
 },
 "nbformat": 4,
 "nbformat_minor": 2
}
