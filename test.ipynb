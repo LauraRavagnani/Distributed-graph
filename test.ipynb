{
 "cells": [
  {
   "cell_type": "markdown",
   "metadata": {},
   "source": [
    "# DISTRIBUTED GRAPHS"
   ]
  },
  {
   "cell_type": "code",
   "execution_count": 1,
   "metadata": {},
   "outputs": [],
   "source": [
    "import readfof\n",
    "from pyspark.sql import SparkSession\n",
    "import numpy as np\n",
    "import scipy.spatial as SS"
   ]
  },
  {
   "cell_type": "code",
   "execution_count": 2,
   "metadata": {},
   "outputs": [
    {
     "name": "stderr",
     "output_type": "stream",
     "text": [
      "Setting default log level to \"WARN\".\n",
      "To adjust logging level use sc.setLogLevel(newLevel). For SparkR, use setLogLevel(newLevel).\n",
      "24/08/29 14:40:27 WARN NativeCodeLoader: Unable to load native-hadoop library for your platform... using builtin-java classes where applicable\n"
     ]
    }
   ],
   "source": [
    "spark = SparkSession.builder \\\n",
    "        .master(\"spark://master:7077\")\\\n",
    "        .appName(\"CosmoSparkApplication\")\\\n",
    "        .getOrCreate()"
   ]
  },
  {
   "cell_type": "code",
   "execution_count": 3,
   "metadata": {},
   "outputs": [],
   "source": [
    "sc = spark.sparkContext"
   ]
  },
  {
   "cell_type": "code",
   "execution_count": 4,
   "metadata": {},
   "outputs": [],
   "source": [
    "# Read data\n",
    "def read_cosmo_data(file_path):\n",
    "\n",
    "    # Read Fof\n",
    "    FoF = readfof.FoF_catalog(\n",
    "        file_path,           # simulation directory\n",
    "        2,                  # snapnum, indicating the redshift (z=1)\n",
    "        long_ids = False,\n",
    "        swap = False,\n",
    "        SFR = False,\n",
    "        read_IDs = False\n",
    "        )\n",
    "\n",
    "    return FoF"
   ]
  },
  {
   "cell_type": "code",
   "execution_count": 5,
   "metadata": {},
   "outputs": [],
   "source": [
    "# get masses and positions\n",
    "\n",
    "def get_pos_mass(FoF):\n",
    "\n",
    "    pos = FoF.GroupPos/1e06             # Halo positions in Gpc/h \n",
    "    mass_raw = FoF.GroupMass * 1e10     # Halo masses in Msun/h\n",
    "\n",
    "    dim = pos.shape[0]\n",
    "    pos_mass_matrix = np.hstack([pos, mass_raw.reshape(dim,1)])\n",
    "\n",
    "    return pos_mass_matrix"
   ]
  },
  {
   "cell_type": "code",
   "execution_count": 6,
   "metadata": {},
   "outputs": [
    {
     "data": {
      "text/plain": [
       "(2000, 2)"
      ]
     },
     "execution_count": 6,
     "metadata": {},
     "output_type": "execute_result"
    }
   ],
   "source": [
    "# simulations parameter\n",
    "\n",
    "sim_pars_file = np.loadtxt(\"/mnt/cosmo_GNN/latin_hypercube_params.txt\", dtype=float)\n",
    "\n",
    "sim_pars_file.shape"
   ]
  },
  {
   "cell_type": "code",
   "execution_count": 7,
   "metadata": {},
   "outputs": [],
   "source": [
    "# number of simulation to use\n",
    "N_sims = 50\n",
    "\n",
    "# path list (key, value)\n",
    "path_list = [(i, \"/mnt/cosmo_GNN/Data/\"+str(i)) for i in range(N_sims)]"
   ]
  },
  {
   "cell_type": "code",
   "execution_count": 8,
   "metadata": {},
   "outputs": [],
   "source": [
    "test_FoF = read_cosmo_data(path_list[0][1])"
   ]
  },
  {
   "cell_type": "code",
   "execution_count": 9,
   "metadata": {},
   "outputs": [],
   "source": [
    "test_pos = test_FoF.GroupPos/1e06\n",
    "test_masses = test_FoF.GroupMass*1e10"
   ]
  },
  {
   "cell_type": "code",
   "execution_count": 10,
   "metadata": {},
   "outputs": [
    {
     "data": {
      "text/plain": [
       "(62392, 3)"
      ]
     },
     "execution_count": 10,
     "metadata": {},
     "output_type": "execute_result"
    }
   ],
   "source": [
    "test_pos.shape"
   ]
  },
  {
   "cell_type": "code",
   "execution_count": 11,
   "metadata": {},
   "outputs": [
    {
     "data": {
      "text/plain": [
       "(62392,)"
      ]
     },
     "execution_count": 11,
     "metadata": {},
     "output_type": "execute_result"
    }
   ],
   "source": [
    "test_masses.shape"
   ]
  },
  {
   "cell_type": "code",
   "execution_count": 12,
   "metadata": {},
   "outputs": [
    {
     "data": {
      "text/plain": [
       "(62392, 4)"
      ]
     },
     "execution_count": 12,
     "metadata": {},
     "output_type": "execute_result"
    }
   ],
   "source": [
    "np.hstack([test_pos, test_masses.reshape(62392,1)]).shape"
   ]
  },
  {
   "cell_type": "code",
   "execution_count": 13,
   "metadata": {},
   "outputs": [],
   "source": [
    "# FoF RDD\n",
    "cosmo_rdd = sc.parallelize(path_list)\\\n",
    "            .mapValues(read_cosmo_data)"
   ]
  },
  {
   "cell_type": "code",
   "execution_count": 14,
   "metadata": {},
   "outputs": [
    {
     "name": "stderr",
     "output_type": "stream",
     "text": [
      "                                                                                \r"
     ]
    },
    {
     "data": {
      "text/plain": [
       "50"
      ]
     },
     "execution_count": 14,
     "metadata": {},
     "output_type": "execute_result"
    }
   ],
   "source": [
    "cosmo_rdd.count()"
   ]
  },
  {
   "cell_type": "code",
   "execution_count": 15,
   "metadata": {},
   "outputs": [
    {
     "data": {
      "text/plain": [
       "16"
      ]
     },
     "execution_count": 15,
     "metadata": {},
     "output_type": "execute_result"
    }
   ],
   "source": [
    "cosmo_rdd.getNumPartitions()"
   ]
  },
  {
   "cell_type": "code",
   "execution_count": 15,
   "metadata": {},
   "outputs": [],
   "source": [
    "# array RDD\n",
    "pos_mass_rdd = cosmo_rdd.mapValues(get_pos_mass)"
   ]
  },
  {
   "cell_type": "code",
   "execution_count": 18,
   "metadata": {},
   "outputs": [],
   "source": [
    "cosa = pos_mass_rdd.take(100)"
   ]
  },
  {
   "cell_type": "code",
   "execution_count": 81,
   "metadata": {},
   "outputs": [
    {
     "data": {
      "text/plain": [
       "2"
      ]
     },
     "execution_count": 81,
     "metadata": {},
     "output_type": "execute_result"
    }
   ],
   "source": [
    "len(cosa)"
   ]
  },
  {
   "cell_type": "code",
   "execution_count": 82,
   "metadata": {},
   "outputs": [
    {
     "data": {
      "text/plain": [
       "list"
      ]
     },
     "execution_count": 82,
     "metadata": {},
     "output_type": "execute_result"
    }
   ],
   "source": [
    "type(cosa)"
   ]
  },
  {
   "cell_type": "code",
   "execution_count": 89,
   "metadata": {},
   "outputs": [
    {
     "data": {
      "text/plain": [
       "(212944, 4)"
      ]
     },
     "execution_count": 89,
     "metadata": {},
     "output_type": "execute_result"
    }
   ],
   "source": [
    "cosa[1][1].shape"
   ]
  },
  {
   "cell_type": "code",
   "execution_count": 19,
   "metadata": {},
   "outputs": [],
   "source": [
    "cosa_pos = cosa[1][1][:,0:3]\n",
    "cosa_mass = cosa[1][1][:,3]\n",
    "\n",
    "cosa_cut = np.quantile(cosa_mass, 0.997)\n",
    "cosa_mask = (cosa_mass >= cosa_cut)"
   ]
  },
  {
   "cell_type": "code",
   "execution_count": 20,
   "metadata": {},
   "outputs": [
    {
     "data": {
      "text/plain": [
       "(641, 3)"
      ]
     },
     "execution_count": 20,
     "metadata": {},
     "output_type": "execute_result"
    }
   ],
   "source": [
    "cosa_pos[cosa_mask].shape"
   ]
  },
  {
   "cell_type": "code",
   "execution_count": 21,
   "metadata": {},
   "outputs": [
    {
     "data": {
      "text/plain": [
       "(641,)"
      ]
     },
     "execution_count": 21,
     "metadata": {},
     "output_type": "execute_result"
    }
   ],
   "source": [
    "cosa_mass[cosa_mask].shape"
   ]
  },
  {
   "cell_type": "code",
   "execution_count": 22,
   "metadata": {},
   "outputs": [
    {
     "data": {
      "text/plain": [
       "(641, 4)"
      ]
     },
     "execution_count": 22,
     "metadata": {},
     "output_type": "execute_result"
    }
   ],
   "source": [
    "cosa_dim = cosa_mass[cosa_mask].shape[0]\n",
    "cosa_filtered = np.hstack([cosa_pos[cosa_mask], cosa_mass[cosa_mask].reshape(cosa_dim,1)])\n",
    "cosa_filtered.shape"
   ]
  },
  {
   "cell_type": "code",
   "execution_count": 23,
   "metadata": {},
   "outputs": [],
   "source": [
    "# mass cut function\n",
    "def mass_filter(pos_mass_matrix):\n",
    "\n",
    "    mass = pos_mass_matrix[:,3]\n",
    "    pos = pos_mass_matrix[:,0:3]\n",
    "    cut = np.quantile(mass, 0.997)\n",
    "    mask = (mass >= cut)\n",
    "    mass_filtered = mass[mask]\n",
    "    pos_filtered = pos[mask]\n",
    "\n",
    "    dim = mass_filtered.shape[0]\n",
    "\n",
    "    pos_mass_matrix_filtered = np.hstack([pos_filtered, mass_filtered.reshape(dim,1)])\n",
    "\n",
    "    return pos_mass_matrix_filtered\n"
   ]
  },
  {
   "cell_type": "code",
   "execution_count": 24,
   "metadata": {},
   "outputs": [],
   "source": [
    "filtered_rdd = pos_mass_rdd.mapValues(mass_filter)"
   ]
  },
  {
   "cell_type": "code",
   "execution_count": 25,
   "metadata": {},
   "outputs": [
    {
     "data": {
      "text/plain": [
       "(641, 4)"
      ]
     },
     "execution_count": 25,
     "metadata": {},
     "output_type": "execute_result"
    }
   ],
   "source": [
    "filtered_rdd.take(100)[1][1].shape"
   ]
  },
  {
   "cell_type": "code",
   "execution_count": 26,
   "metadata": {},
   "outputs": [],
   "source": [
    "# get KDTree\n",
    "def get_tree(pos):\n",
    "\n",
    "    kd_tree = SS.KDTree(pos, leafsize=16, boxsize=1.0001)\n",
    "\n",
    "    return kd_tree"
   ]
  },
  {
   "cell_type": "code",
   "execution_count": 27,
   "metadata": {},
   "outputs": [],
   "source": [
    "kdtree_rdd = filtered_rdd.mapValues(lambda el: get_tree(el[:,0:3]))"
   ]
  },
  {
   "cell_type": "code",
   "execution_count": 28,
   "metadata": {},
   "outputs": [
    {
     "data": {
      "text/plain": [
       "[(0, <scipy.spatial._kdtree.KDTree at 0x7f6bbf6651d0>),\n",
       " (1, <scipy.spatial._kdtree.KDTree at 0x7f6bbf665450>),\n",
       " (2, <scipy.spatial._kdtree.KDTree at 0x7f6bbf665ed0>),\n",
       " (3, <scipy.spatial._kdtree.KDTree at 0x7f6bbc8818d0>),\n",
       " (4, <scipy.spatial._kdtree.KDTree at 0x7f6bbc881550>),\n",
       " (5, <scipy.spatial._kdtree.KDTree at 0x7f6bbf6415d0>),\n",
       " (6, <scipy.spatial._kdtree.KDTree at 0x7f6bbc882150>),\n",
       " (7, <scipy.spatial._kdtree.KDTree at 0x7f6bbf640f50>),\n",
       " (8, <scipy.spatial._kdtree.KDTree at 0x7f6bbf6664d0>),\n",
       " (9, <scipy.spatial._kdtree.KDTree at 0x7f6bbf6661d0>),\n",
       " (10, <scipy.spatial._kdtree.KDTree at 0x7f6bbf6665d0>),\n",
       " (11, <scipy.spatial._kdtree.KDTree at 0x7f6bbf667150>),\n",
       " (12, <scipy.spatial._kdtree.KDTree at 0x7f6bbf666b50>),\n",
       " (13, <scipy.spatial._kdtree.KDTree at 0x7f6bbf6671d0>),\n",
       " (14, <scipy.spatial._kdtree.KDTree at 0x7f6bbf667e50>),\n",
       " (15, <scipy.spatial._kdtree.KDTree at 0x7f6bbc8827d0>),\n",
       " (16, <scipy.spatial._kdtree.KDTree at 0x7f6bbf6658d0>),\n",
       " (17, <scipy.spatial._kdtree.KDTree at 0x7f6bbf678bd0>),\n",
       " (18, <scipy.spatial._kdtree.KDTree at 0x7f6bbf678750>),\n",
       " (19, <scipy.spatial._kdtree.KDTree at 0x7f6bbf678ad0>),\n",
       " (20, <scipy.spatial._kdtree.KDTree at 0x7f6bbf679850>),\n",
       " (21, <scipy.spatial._kdtree.KDTree at 0x7f6bbf6793d0>),\n",
       " (22, <scipy.spatial._kdtree.KDTree at 0x7f6bbf6797d0>),\n",
       " (23, <scipy.spatial._kdtree.KDTree at 0x7f6bbf67a4d0>),\n",
       " (24, <scipy.spatial._kdtree.KDTree at 0x7f6bbf679fd0>),\n",
       " (25, <scipy.spatial._kdtree.KDTree at 0x7f6bbf67a550>),\n",
       " (26, <scipy.spatial._kdtree.KDTree at 0x7f6bbf67b1d0>),\n",
       " (27, <scipy.spatial._kdtree.KDTree at 0x7f6bbf67ad50>),\n",
       " (28, <scipy.spatial._kdtree.KDTree at 0x7f6bbf67b150>),\n",
       " (29, <scipy.spatial._kdtree.KDTree at 0x7f6bbf67be50>),\n",
       " (30, <scipy.spatial._kdtree.KDTree at 0x7f6bbf67b9d0>),\n",
       " (31, <scipy.spatial._kdtree.KDTree at 0x7f6bbf67bdd0>),\n",
       " (32, <scipy.spatial._kdtree.KDTree at 0x7f6bbf688b50>),\n",
       " (33, <scipy.spatial._kdtree.KDTree at 0x7f6bbf67a050>),\n",
       " (34, <scipy.spatial._kdtree.KDTree at 0x7f6bbf688650>),\n",
       " (35, <scipy.spatial._kdtree.KDTree at 0x7f6bbf689750>),\n",
       " (36, <scipy.spatial._kdtree.KDTree at 0x7f6bbf6892d0>),\n",
       " (37, <scipy.spatial._kdtree.KDTree at 0x7f6bbf6896d0>),\n",
       " (38, <scipy.spatial._kdtree.KDTree at 0x7f6bbf68a3d0>),\n",
       " (39, <scipy.spatial._kdtree.KDTree at 0x7f6bbf689f50>),\n",
       " (40, <scipy.spatial._kdtree.KDTree at 0x7f6bbf68a350>),\n",
       " (41, <scipy.spatial._kdtree.KDTree at 0x7f6bbf68b050>),\n",
       " (42, <scipy.spatial._kdtree.KDTree at 0x7f6bbf68abd0>),\n",
       " (43, <scipy.spatial._kdtree.KDTree at 0x7f6bbf68afd0>),\n",
       " (44, <scipy.spatial._kdtree.KDTree at 0x7f6bbf68bcd0>),\n",
       " (45, <scipy.spatial._kdtree.KDTree at 0x7f6bbf68b850>),\n",
       " (46, <scipy.spatial._kdtree.KDTree at 0x7f6bbf68bc50>),\n",
       " (47, <scipy.spatial._kdtree.KDTree at 0x7f6bbf6949d0>),\n",
       " (48, <scipy.spatial._kdtree.KDTree at 0x7f6bbf694550>),\n",
       " (49, <scipy.spatial._kdtree.KDTree at 0x7f6bbf6951d0>)]"
      ]
     },
     "execution_count": 28,
     "metadata": {},
     "output_type": "execute_result"
    }
   ],
   "source": [
    "kdtree_rdd.take(50)"
   ]
  },
  {
   "cell_type": "code",
   "execution_count": 23,
   "metadata": {},
   "outputs": [],
   "source": [
    "# get edge indexes\n",
    "\n",
    "def get_edges(tree):\n",
    "\n",
    "    edge_idx = tree.query_pairs(r=0.2, output_type=\"ndarray\")\n",
    "\n",
    "    return edge_idx"
   ]
  },
  {
   "cell_type": "code",
   "execution_count": 24,
   "metadata": {},
   "outputs": [],
   "source": [
    "edge_idx_rdd = kdtree_rdd.mapValues(get_edges)"
   ]
  },
  {
   "cell_type": "code",
   "execution_count": 25,
   "metadata": {},
   "outputs": [
    {
     "data": {
      "text/plain": [
       "[(0,\n",
       "  array([[ 30, 176],\n",
       "         [ 37, 176],\n",
       "         [ 24, 176],\n",
       "         ...,\n",
       "         [ 90, 161],\n",
       "         [ 90, 145],\n",
       "         [145, 161]])),\n",
       " (1,\n",
       "  array([[138, 283],\n",
       "         [138, 562],\n",
       "         [138, 431],\n",
       "         ...,\n",
       "         [476, 563],\n",
       "         [563, 639],\n",
       "         [476, 639]]))]"
      ]
     },
     "execution_count": 25,
     "metadata": {},
     "output_type": "execute_result"
    }
   ],
   "source": [
    "edge_idx_rdd.take(2)"
   ]
  },
  {
   "cell_type": "code",
   "execution_count": 26,
   "metadata": {},
   "outputs": [],
   "source": [
    "edg = np.array([[ 30, 176],\n",
    "       [ 37, 176],\n",
    "       [ 24, 176],\n",
    "       [138, 283],\n",
    "       [138, 562],\n",
    "       [138, 431]])\n",
    "\n",
    "row, col = edg.T"
   ]
  },
  {
   "cell_type": "code",
   "execution_count": 27,
   "metadata": {},
   "outputs": [],
   "source": [
    "# add reverse pairs\n",
    "def rev_pairs(edge_index_array):\n",
    "    reversepairs = edge_index_array[:, [1,0]]\n",
    "    edge_index_array_r = np.vstack([edge_index_array, reversepairs])\n",
    "    # make sure indexes are integers\n",
    "    return edge_index_array_r.astype(int)"
   ]
  },
  {
   "cell_type": "code",
   "execution_count": 28,
   "metadata": {},
   "outputs": [],
   "source": [
    "edge_idx_rdd_r = edge_idx_rdd.mapValues(rev_pairs)"
   ]
  },
  {
   "cell_type": "code",
   "execution_count": 29,
   "metadata": {},
   "outputs": [],
   "source": [
    "joined_rdd = filtered_rdd.join(edge_idx_rdd_r)"
   ]
  },
  {
   "cell_type": "code",
   "execution_count": 41,
   "metadata": {},
   "outputs": [
    {
     "data": {
      "text/plain": [
       "array([[1.6756082e-01, 6.1475968e-01, 8.9784436e-02, 1.9548385e+15],\n",
       "       [4.1062498e-01, 1.2807573e-01, 6.6436279e-01, 1.8625701e+15],\n",
       "       [2.0109750e-01, 7.6894172e-02, 6.4360231e-01, 1.5365154e+15],\n",
       "       ...,\n",
       "       [2.8888595e-01, 3.7162909e-01, 4.1354087e-01, 3.3001012e+14],\n",
       "       [4.2436123e-01, 1.2518100e-01, 3.4866741e-01, 3.3001012e+14],\n",
       "       [6.2315601e-01, 1.3950281e-01, 3.4553781e-01, 3.3001009e+14]],\n",
       "      dtype=float32)"
      ]
     },
     "execution_count": 41,
     "metadata": {},
     "output_type": "execute_result"
    }
   ],
   "source": [
    "joined_rdd.take(1)[0][1][0]"
   ]
  },
  {
   "cell_type": "code",
   "execution_count": 42,
   "metadata": {},
   "outputs": [],
   "source": [
    "# get edge features\n",
    "def dist(joined_tuple):\n",
    "    pos_mass = joined_tuple[1][0]\n",
    "    edg_idx = joined_tuple[1][1]\n",
    "    edg_idx = edg_idx.T\n",
    "    pos = pos_mass[:, 0:3]\n",
    "    row, col = edg_idx\n",
    "    diff = pos[row]-pos[col]\n",
    "\n",
    "    # boundary conditions\n",
    "    diff_bc = np.where(diff < -0.01, diff + 1.0, diff)\n",
    "    diff = np.where(diff > 0.01, diff - 1.0, diff_bc)\n",
    "\n",
    "    # Get translational and rotational invariant features\n",
    "\n",
    "    # Distance d = sqrt(dx^2+dy^2+dz^2)\n",
    "    dist = np.linalg.norm(diff, axis=1)\n",
    "\n",
    "    # unitdiff = diff/(dist.reshape(-1,1))    # for retrieving cos1 cos2\n",
    "\n",
    "    # Normalize distance by linking radius\n",
    "    dist /= 0.2\n",
    "\n",
    "    return dist\n",
    "\n",
    "def cos1(joined_tuple):\n",
    "    pos_mass = joined_tuple[1][0]\n",
    "    edg_idx = joined_tuple[1][1]\n",
    "    edg_idx = edg_idx.T\n",
    "    pos = pos_mass[:, 0:3]\n",
    "    row, col = edg_idx\n",
    "    \n",
    "    # Centroid of halo catalogue (3d position of the centroid)\n",
    "    centroid = np.mean(pos, axis=0)\n",
    "    \n"
   ]
  },
  {
   "cell_type": "code",
   "execution_count": 43,
   "metadata": {},
   "outputs": [],
   "source": [
    "dist_rdd = joined_rdd.map(dist)"
   ]
  },
  {
   "cell_type": "code",
   "execution_count": 29,
   "metadata": {},
   "outputs": [
    {
     "ename": "NameError",
     "evalue": "name 'dist_rdd' is not defined",
     "output_type": "error",
     "traceback": [
      "\u001b[0;31m---------------------------------------------------------------------------\u001b[0m",
      "\u001b[0;31mNameError\u001b[0m                                 Traceback (most recent call last)",
      "Cell \u001b[0;32mIn[29], line 1\u001b[0m\n\u001b[0;32m----> 1\u001b[0m \u001b[43mdist_rdd\u001b[49m\u001b[38;5;241m.\u001b[39mtake(\u001b[38;5;241m1\u001b[39m)[\u001b[38;5;241m0\u001b[39m]\u001b[38;5;241m.\u001b[39mshape\n",
      "\u001b[0;31mNameError\u001b[0m: name 'dist_rdd' is not defined"
     ]
    }
   ],
   "source": [
    "dist_rdd.take(1)[0]"
   ]
  },
  {
   "cell_type": "code",
   "execution_count": null,
   "metadata": {},
   "outputs": [],
   "source": []
  },
  {
   "cell_type": "code",
   "execution_count": 30,
   "metadata": {},
   "outputs": [],
   "source": [
    "sc.stop()\n",
    "spark.stop()"
   ]
  },
  {
   "cell_type": "code",
   "execution_count": null,
   "metadata": {},
   "outputs": [],
   "source": []
  }
 ],
 "metadata": {
  "kernelspec": {
   "display_name": "pyspark_env",
   "language": "python",
   "name": "python3"
  },
  "language_info": {
   "codemirror_mode": {
    "name": "ipython",
    "version": 3
   },
   "file_extension": ".py",
   "mimetype": "text/x-python",
   "name": "python",
   "nbconvert_exporter": "python",
   "pygments_lexer": "ipython3",
   "version": "3.12.5"
  }
 },
 "nbformat": 4,
 "nbformat_minor": 2
}
